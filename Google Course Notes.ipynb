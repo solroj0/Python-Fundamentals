{
 "cells": [
  {
   "cell_type": "markdown",
   "id": "177cfef8",
   "metadata": {},
   "source": [
    "Fits file"
   ]
  },
  {
   "cell_type": "code",
   "execution_count": 4,
   "id": "a9740994",
   "metadata": {
    "tags": []
   },
   "outputs": [],
   "source": [
    "#Loops\n",
    "\n",
    "def quehongo(input1, input2):\n",
    "    return"
   ]
  },
  {
   "cell_type": "code",
   "execution_count": null,
   "id": "c479217a-0e03-4e0b-9596-2bf3eb145134",
   "metadata": {},
   "outputs": [],
   "source": []
  },
  {
   "cell_type": "code",
   "execution_count": 5,
   "id": "a4078902-7f74-4e65-a8c9-acae29266064",
   "metadata": {},
   "outputs": [
    {
     "name": "stdout",
     "output_type": "stream",
     "text": [
      "Not there yet, x=0\n",
      "x=1\n",
      "Not there yet, x=1\n",
      "x=2\n",
      "Not there yet, x=2\n",
      "x=3\n",
      "Not there yet, x=3\n",
      "x=4\n",
      "Not there yet, x=4\n",
      "x=5\n"
     ]
    }
   ],
   "source": [
    "# Instantiate a counter.\n",
    "x = 0\n",
    "\n",
    "# Create a while loop that prints \"not there yet,\" increments x by 1, a \n",
    "# and prints x until x reaches 5.\n",
    "while x < 5:\n",
    "    print('Not there yet, x=' + str(x))\n",
    "    x = x + 1\n",
    "    print('x=' + str(x))"
   ]
  },
  {
   "cell_type": "code",
   "execution_count": 11,
   "id": "8d2ab4e0-b66b-4da9-a8f9-64ce824baa02",
   "metadata": {
    "tags": []
   },
   "outputs": [
    {
     "name": "stdout",
     "output_type": "stream",
     "text": [
      "Guess a number between 1 and 25: \n"
     ]
    },
    {
     "name": "stdin",
     "output_type": "stream",
     "text": [
      " 8\n"
     ]
    },
    {
     "name": "stdout",
     "output_type": "stream",
     "text": [
      "Nope! Try again.\n",
      "too small\n",
      "Guess a number between 1 and 25: \n"
     ]
    },
    {
     "name": "stdin",
     "output_type": "stream",
     "text": [
      " 9\n"
     ]
    },
    {
     "name": "stdout",
     "output_type": "stream",
     "text": [
      "Nope! Try again.\n",
      "too small\n",
      "Guess a number between 1 and 25: \n"
     ]
    },
    {
     "name": "stdin",
     "output_type": "stream",
     "text": [
      " 14\n"
     ]
    },
    {
     "name": "stdout",
     "output_type": "stream",
     "text": [
      "Nope! Try again.\n",
      "too large\n",
      "Guess a number between 1 and 25: \n"
     ]
    },
    {
     "name": "stdin",
     "output_type": "stream",
     "text": [
      " 13\n"
     ]
    },
    {
     "name": "stdout",
     "output_type": "stream",
     "text": [
      "Nope! Try again.\n",
      "too large\n",
      "Guess a number between 1 and 25: \n"
     ]
    },
    {
     "name": "stdin",
     "output_type": "stream",
     "text": [
      " 12\n"
     ]
    },
    {
     "name": "stdout",
     "output_type": "stream",
     "text": [
      "Correct! You guessed the number in 5 tries!\n"
     ]
    }
   ],
   "source": [
    "# Import the random module to be able to create a (pseudo) random number.\n",
    "import random\n",
    "\n",
    "number = random.randint(1,25)                   # Generate random number\n",
    "number_of_guesses = 0                           # Instantiate guess counter\n",
    "\n",
    "while number_of_guesses < 5:\n",
    "    print('Guess a number between 1 and 25: ')  # Tell user to guess number\n",
    "    guess = input()                             # Produce the user input field\n",
    "    guess = int(guess)                          # Convert guess to integer\n",
    "    number_of_guesses += 1                      # Increment guess count by 1\n",
    "\n",
    "    if guess == number:                         # Break while loop if guess is correct\n",
    "        break\n",
    "    elif number_of_guesses == 5:                # Break while loop if guess limit reached\n",
    "        break\n",
    "    else:                                       # Tell user to try again\n",
    "        print('Nope! Try again.')\n",
    "        if guess > number:\n",
    "            print('too large')\n",
    "        else:\n",
    "            print('too small')\n",
    "\n",
    "# Message to display if correct\n",
    "if guess == number:\n",
    "    print('Correct! You guessed the number in ' + str(number_of_guesses) + ' tries!')\n",
    "# Message to display after 5 unsuccessful guesses\n",
    "else:\n",
    "    print('You did not guess the number. The number was ' + str(number) + '.')"
   ]
  },
  {
   "cell_type": "code",
   "execution_count": 12,
   "id": "ba4778be-5f9d-44a1-a57f-8dfdc3ff2dc2",
   "metadata": {
    "tags": []
   },
   "outputs": [
    {
     "ename": "FileNotFoundError",
     "evalue": "[Errno 2] No such file or directory: 'zen_of_python.txt'",
     "output_type": "error",
     "traceback": [
      "\u001b[1;31m---------------------------------------------------------------------------\u001b[0m",
      "\u001b[1;31mFileNotFoundError\u001b[0m                         Traceback (most recent call last)",
      "Cell \u001b[1;32mIn[12], line 2\u001b[0m\n\u001b[0;32m      1\u001b[0m \u001b[38;5;66;03m# Example of reading in a .txt file line by line with a for loop\u001b[39;00m\n\u001b[1;32m----> 2\u001b[0m \u001b[38;5;28;01mwith\u001b[39;00m \u001b[38;5;28mopen\u001b[39m(\u001b[38;5;124m'\u001b[39m\u001b[38;5;124mzen_of_python.txt\u001b[39m\u001b[38;5;124m'\u001b[39m) \u001b[38;5;28;01mas\u001b[39;00m f:\n\u001b[0;32m      3\u001b[0m     \u001b[38;5;28;01mfor\u001b[39;00m line \u001b[38;5;129;01min\u001b[39;00m f:\n\u001b[0;32m      4\u001b[0m         \u001b[38;5;28mprint\u001b[39m(line)\n",
      "File \u001b[1;32m~\\anaconda3\\Lib\\site-packages\\IPython\\core\\interactiveshell.py:284\u001b[0m, in \u001b[0;36m_modified_open\u001b[1;34m(file, *args, **kwargs)\u001b[0m\n\u001b[0;32m    277\u001b[0m \u001b[38;5;28;01mif\u001b[39;00m file \u001b[38;5;129;01min\u001b[39;00m {\u001b[38;5;241m0\u001b[39m, \u001b[38;5;241m1\u001b[39m, \u001b[38;5;241m2\u001b[39m}:\n\u001b[0;32m    278\u001b[0m     \u001b[38;5;28;01mraise\u001b[39;00m \u001b[38;5;167;01mValueError\u001b[39;00m(\n\u001b[0;32m    279\u001b[0m         \u001b[38;5;124mf\u001b[39m\u001b[38;5;124m\"\u001b[39m\u001b[38;5;124mIPython won\u001b[39m\u001b[38;5;124m'\u001b[39m\u001b[38;5;124mt let you open fd=\u001b[39m\u001b[38;5;132;01m{\u001b[39;00mfile\u001b[38;5;132;01m}\u001b[39;00m\u001b[38;5;124m by default \u001b[39m\u001b[38;5;124m\"\u001b[39m\n\u001b[0;32m    280\u001b[0m         \u001b[38;5;124m\"\u001b[39m\u001b[38;5;124mas it is likely to crash IPython. If you know what you are doing, \u001b[39m\u001b[38;5;124m\"\u001b[39m\n\u001b[0;32m    281\u001b[0m         \u001b[38;5;124m\"\u001b[39m\u001b[38;5;124myou can use builtins\u001b[39m\u001b[38;5;124m'\u001b[39m\u001b[38;5;124m open.\u001b[39m\u001b[38;5;124m\"\u001b[39m\n\u001b[0;32m    282\u001b[0m     )\n\u001b[1;32m--> 284\u001b[0m \u001b[38;5;28;01mreturn\u001b[39;00m io_open(file, \u001b[38;5;241m*\u001b[39margs, \u001b[38;5;241m*\u001b[39m\u001b[38;5;241m*\u001b[39mkwargs)\n",
      "\u001b[1;31mFileNotFoundError\u001b[0m: [Errno 2] No such file or directory: 'zen_of_python.txt'"
     ]
    }
   ],
   "source": [
    "# Example of reading in a .txt file line by line with a for loop\n",
    "with open('zen_of_python.txt') as f:\n",
    "    for line in f:\n",
    "        print(line)\n",
    "print('\\nI\\'m done.')"
   ]
  },
  {
   "cell_type": "code",
   "execution_count": 14,
   "id": "e9e6b5db-c86a-4c2b-a88e-126217e0aa35",
   "metadata": {
    "tags": []
   },
   "outputs": [
    {
     "name": "stdout",
     "output_type": "stream",
     "text": [
      "0 -17.77777777777778\n",
      "10 -12.222222222222221\n",
      "20 -6.666666666666667\n",
      "30 -1.1111111111111112\n",
      "40 4.444444444444445\n",
      "50 10.0\n",
      "60 15.555555555555555\n",
      "70 21.11111111111111\n",
      "80 26.666666666666668\n",
      "90 32.22222222222222\n",
      "100 37.77777777777778\n"
     ]
    }
   ],
   "source": [
    "# Define a function that converts Fahrenheit to Celsius.\n",
    "def to_celsius(x):\n",
    "     return (x-32) * 5/9\n",
    "\n",
    "# Create a table of Celsius-->Fahrenheit conversions every 10 degrees, 0-100\n",
    "for x in range(0, 101, 10):\n",
    "     print(x, to_celsius(x))"
   ]
  },
  {
   "cell_type": "code",
   "execution_count": 21,
   "id": "03064b59-979a-44c4-9f84-8fb6df42aaea",
   "metadata": {
    "tags": []
   },
   "outputs": [
    {
     "name": "stdout",
     "output_type": "stream",
     "text": [
      "Igor\n",
      "Sokolov\n",
      "\n",
      "Riko\n",
      "Miyazaki\n",
      "\n",
      "Tuva\n",
      "Johansen\n",
      "\n"
     ]
    }
   ],
   "source": [
    "students = [['Igor', 'Sokolov'], ['Riko', 'Miyazaki'], ['Tuva', 'Johansen']]\n",
    "for student in students:\n",
    "   for name in student:\n",
    "       print(name)\n",
    "   print()"
   ]
  },
  {
   "cell_type": "markdown",
   "id": "b35f3bcd-a2f5-4edb-94fc-a92fbf163be6",
   "metadata": {},
   "source": [
    "In this example, the students variable contains a list of three lists. Each inner list contains two elements: a given name and a surname. The first for loop iterates over the inner lists. The second (nested) for loop iterates over each name in each inner list and prints the name. After each iteration of the outer loop, the program uses an empty print statement to print a new line. "
   ]
  },
  {
   "cell_type": "code",
   "execution_count": 4,
   "id": "22c07620-a2fb-437e-b0cd-fef9568c180e",
   "metadata": {},
   "outputs": [
    {
     "data": {
      "text/plain": [
       "'oran'"
      ]
     },
     "execution_count": 4,
     "metadata": {},
     "output_type": "execute_result"
    }
   ],
   "source": [
    "color = 'orange'\n",
    "#color[1:4]\n",
    "color[:4]"
   ]
  },
  {
   "cell_type": "code",
   "execution_count": 5,
   "id": "27d51e30-9ba3-4704-af5b-37df0164342c",
   "metadata": {
    "tags": []
   },
   "outputs": [
    {
     "data": {
      "text/plain": [
       "True"
      ]
     },
     "execution_count": 5,
     "metadata": {},
     "output_type": "execute_result"
    }
   ],
   "source": [
    "num1 = ['a1', 'b2', 'c3']\n",
    "'a1' in num1"
   ]
  },
  {
   "cell_type": "code",
   "execution_count": 7,
   "id": "4d818960-ba30-492a-892b-dbf26b222b21",
   "metadata": {
    "tags": []
   },
   "outputs": [
    {
     "name": "stdout",
     "output_type": "stream",
     "text": [
      "hola Papa, 14\n"
     ]
    }
   ],
   "source": [
    "name = 'Papa'\n",
    "number = 14\n",
    "print('hola {name}, {num}'.format(name=name,num=number))"
   ]
  },
  {
   "cell_type": "code",
   "execution_count": 9,
   "id": "a92974a9-e6b7-438b-9736-b27a7ffab26e",
   "metadata": {
    "tags": []
   },
   "outputs": [
    {
     "name": "stdout",
     "output_type": "stream",
     "text": [
      "Base $7.75 USD. Tax $8.29 USD.\n"
     ]
    }
   ],
   "source": [
    "price = 7.75 \n",
    "with_tax = price * 1.07\n",
    "print('Base ${:.2f} USD. Tax ${:.2f} USD.'.format(price, with_tax))"
   ]
  },
  {
   "cell_type": "code",
   "execution_count": 13,
   "id": "68c8c9e7-75a4-4dd8-af46-06f29cb91e2f",
   "metadata": {
    "tags": []
   },
   "outputs": [
    {
     "name": "stdout",
     "output_type": "stream",
     "text": [
      "  0 F | -17.78 C\n",
      " 10 F | -12.22 C\n",
      " 20 F |  -6.67 C\n",
      " 30 F |  -1.11 C\n",
      " 40 F |   4.44 C\n",
      " 50 F |  10.00 C\n",
      " 60 F |  15.56 C\n",
      " 70 F |  21.11 C\n",
      " 80 F |  26.67 C\n",
      " 90 F |  32.22 C\n",
      "100 F |  37.78 C\n"
     ]
    }
   ],
   "source": [
    "def to_celsius(x):\n",
    "    return (x-32) * 5/9\n",
    "\n",
    "for x in range(0, 101, 10):\n",
    "    print('{:>3} F | {:>6.2f} C'.format(x,to_celsius(x)))"
   ]
  },
  {
   "cell_type": "code",
   "execution_count": 17,
   "id": "bd3be34a-84e3-4c86-9e42-61d650fb5a24",
   "metadata": {
    "tags": []
   },
   "outputs": [
    {
     "data": {
      "text/plain": [
       "'                       1000.99'"
      ]
     },
     "execution_count": 17,
     "metadata": {},
     "output_type": "execute_result"
    }
   ],
   "source": [
    "num = 1000.987123\n",
    "f'{num:>30.2f}'"
   ]
  },
  {
   "cell_type": "code",
   "execution_count": 21,
   "id": "d86c8ed7-1498-4a21-9534-a5f7d69adc58",
   "metadata": {
    "tags": []
   },
   "outputs": [
    {
     "name": "stdout",
     "output_type": "stream",
     "text": [
      "3\n",
      "1\n"
     ]
    }
   ],
   "source": [
    "my_string = 'Hyappy birthday'\n",
    "\n",
    "print(my_string.count('y'))\n",
    "print(my_string.count('y', 2, 7)) #between 2 and 7 "
   ]
  },
  {
   "cell_type": "code",
   "execution_count": 22,
   "id": "be2ac535-b493-41c1-a6f9-63753ac4aa4f",
   "metadata": {
    "tags": []
   },
   "outputs": [
    {
     "data": {
      "text/plain": [
       "6"
      ]
     },
     "execution_count": 22,
     "metadata": {},
     "output_type": "execute_result"
    }
   ],
   "source": [
    "my_string = 'Happy birthday'\n",
    "\n",
    "my_string.find('birth')"
   ]
  },
  {
   "cell_type": "code",
   "execution_count": 23,
   "id": "caa2d961-71e2-400c-9e77-132dd72d3a7d",
   "metadata": {
    "tags": []
   },
   "outputs": [
    {
     "data": {
      "text/plain": [
       "'Happy birthday to you'"
      ]
     },
     "execution_count": 23,
     "metadata": {},
     "output_type": "execute_result"
    }
   ],
   "source": [
    "separator_string = ' '\n",
    "iterable_of_strings = ['Happy', 'birthday', 'to', 'you']\n",
    "\n",
    "separator_string.join(iterable_of_strings)"
   ]
  },
  {
   "cell_type": "code",
   "execution_count": 25,
   "id": "90080592-6920-4b81-9f8c-34b2a53f7fd8",
   "metadata": {
    "tags": []
   },
   "outputs": [
    {
     "data": {
      "text/plain": [
       "('https://www', '.', 'google.com/')"
      ]
     },
     "execution_count": 25,
     "metadata": {},
     "output_type": "execute_result"
    }
   ],
   "source": [
    "my_string = 'https://www.google.com/'\n",
    "\n",
    "my_string.partition('.')"
   ]
  },
  {
   "cell_type": "code",
   "execution_count": 26,
   "id": "8ffb8afa-36ab-410c-8a5c-aab700fac941",
   "metadata": {
    "tags": []
   },
   "outputs": [
    {
     "data": {
      "text/plain": [
       "<re.Match object; span=(6, 9), match='sad'>"
      ]
     },
     "execution_count": 26,
     "metadata": {},
     "output_type": "execute_result"
    }
   ],
   "source": [
    "import re\n",
    "\n",
    "my_string = 'Three sad tigers swallowed wheat in a wheat field'\n",
    "\n",
    "re.search('[bms]ad', my_string)"
   ]
  },
  {
   "cell_type": "code",
   "execution_count": 28,
   "id": "8cc26a70-6396-451a-af50-1fc171d4780a",
   "metadata": {
    "tags": []
   },
   "outputs": [
    {
     "name": "stdout",
     "output_type": "stream",
     "text": [
      "['Pineapple', 'Banana', 'Apple', 'Melon', 'Kiwi']\n"
     ]
    }
   ],
   "source": [
    "# The append() method adds an element to the end of a list.\n",
    "fruits = ['Pineapple', 'Banana', 'Apple', 'Melon']\n",
    "fruits.append('Kiwi')\n",
    "print(fruits)"
   ]
  },
  {
   "cell_type": "code",
   "execution_count": 30,
   "id": "01fe7988-9408-40e0-adee-b5dc8b016bfd",
   "metadata": {
    "tags": []
   },
   "outputs": [
    {
     "name": "stdout",
     "output_type": "stream",
     "text": [
      "['Pineapple', 'Orange', 'Orange', 'Banana', 'Apple', 'Melon', 'Kiwi']\n"
     ]
    }
   ],
   "source": [
    "# The insert() method adds an element to a list at the specified index.\n",
    "fruits.insert(1, 'Orange')\n",
    "print(fruits)"
   ]
  },
  {
   "cell_type": "code",
   "execution_count": 31,
   "id": "d15373c2-6d69-49b1-9933-07e09b02ac9e",
   "metadata": {
    "tags": []
   },
   "outputs": [
    {
     "name": "stdout",
     "output_type": "stream",
     "text": [
      "['Mango', 'Pineapple', 'Orange', 'Orange', 'Banana', 'Apple', 'Melon', 'Kiwi']\n"
     ]
    }
   ],
   "source": [
    "# The insert() method adds an element to a list at the specified index.\n",
    "fruits.insert(0, 'Mango')\n",
    "print(fruits)"
   ]
  },
  {
   "cell_type": "code",
   "execution_count": 32,
   "id": "9e33d4c6-5b52-4ab8-b770-ad2de650c775",
   "metadata": {
    "tags": []
   },
   "outputs": [
    {
     "name": "stdout",
     "output_type": "stream",
     "text": [
      "['Mango', 'Pineapple', 'Orange', 'Orange', 'Apple', 'Melon', 'Kiwi']\n"
     ]
    }
   ],
   "source": [
    "# The remove() method deletes the first occurrence of an element in a list.\n",
    "fruits.remove('Banana')\n",
    "print(fruits)"
   ]
  },
  {
   "cell_type": "code",
   "execution_count": 34,
   "id": "fa1b0341-86b5-4027-8717-9742e03f1853",
   "metadata": {
    "tags": []
   },
   "outputs": [
    {
     "name": "stdout",
     "output_type": "stream",
     "text": [
      "['Mango', 'Pineapple', 'Apple', 'Melon', 'Kiwi']\n"
     ]
    }
   ],
   "source": [
    "# The pop() method removes the element at a given index and returns it.\n",
    "# If no index is given, it removes and returns the last element.\n",
    "fruits.pop(2)\n",
    "print(fruits)"
   ]
  },
  {
   "cell_type": "code",
   "execution_count": 35,
   "id": "9a307f19-2658-488d-be35-4497fe505c89",
   "metadata": {
    "tags": []
   },
   "outputs": [],
   "source": [
    "# Reassign the element at a given index with a new value.\n",
    "fruits[1] = 'Mango'"
   ]
  },
  {
   "cell_type": "code",
   "execution_count": 37,
   "id": "d9b35d53-f1b0-4048-b27f-30831814cee4",
   "metadata": {
    "tags": []
   },
   "outputs": [
    {
     "name": "stdout",
     "output_type": "stream",
     "text": [
      "['Mango', 'Mango', 'Apple', 'Melon', 'Kiwi']\n"
     ]
    }
   ],
   "source": [
    "print(fruits)"
   ]
  },
  {
   "cell_type": "code",
   "execution_count": 39,
   "id": "389cc85f-9e2c-4fe4-86bc-1c78c29fe3fb",
   "metadata": {
    "tags": []
   },
   "outputs": [
    {
     "name": "stdout",
     "output_type": "stream",
     "text": [
      "1.21 gigawatts\n"
     ]
    }
   ],
   "source": [
    "# Strings are immutable because you need to reassign them to modify them.\n",
    "power = '1.21'\n",
    "power = power + ' gigawatts'\n",
    "print(power)"
   ]
  },
  {
   "cell_type": "code",
   "execution_count": 40,
   "id": "18bea1e0-ff7d-4ea4-9602-9082d864f1f7",
   "metadata": {
    "tags": []
   },
   "outputs": [
    {
     "name": "stdout",
     "output_type": "stream",
     "text": [
      "[2.21, 'gigawatts']\n"
     ]
    }
   ],
   "source": [
    "# Lists are mutable because you can overwrite their elements\n",
    "power = [1.21, 'gigawatts']\n",
    "power[0] = 2.21\n",
    "print(power)"
   ]
  },
  {
   "cell_type": "code",
   "execution_count": 41,
   "id": "c04e6fe9-4c31-4d94-afe1-0c8dfb11bf71",
   "metadata": {
    "tags": []
   },
   "outputs": [
    {
     "ename": "TypeError",
     "evalue": "'tuple' object does not support item assignment",
     "output_type": "error",
     "traceback": [
      "\u001b[1;31m---------------------------------------------------------------------------\u001b[0m",
      "\u001b[1;31mTypeError\u001b[0m                                 Traceback (most recent call last)",
      "Cell \u001b[1;32mIn[41], line 5\u001b[0m\n\u001b[0;32m      2\u001b[0m fullname \u001b[38;5;241m=\u001b[39m (\u001b[38;5;124m'\u001b[39m\u001b[38;5;124mMasha\u001b[39m\u001b[38;5;124m'\u001b[39m, \u001b[38;5;124m'\u001b[39m\u001b[38;5;124mZ\u001b[39m\u001b[38;5;124m'\u001b[39m, \u001b[38;5;124m'\u001b[39m\u001b[38;5;124mHopper\u001b[39m\u001b[38;5;124m'\u001b[39m)\n\u001b[0;32m      4\u001b[0m \u001b[38;5;66;03m# Tuples are immutable, so their elements cannot be overwritten.\u001b[39;00m\n\u001b[1;32m----> 5\u001b[0m fullname[\u001b[38;5;241m2\u001b[39m] \u001b[38;5;241m=\u001b[39m \u001b[38;5;124m'\u001b[39m\u001b[38;5;124mCopper\u001b[39m\u001b[38;5;124m'\u001b[39m\n\u001b[0;32m      6\u001b[0m \u001b[38;5;28mprint\u001b[39m(fullname)\n",
      "\u001b[1;31mTypeError\u001b[0m: 'tuple' object does not support item assignment"
     ]
    }
   ],
   "source": [
    "# Tuples are instantiated with parentheses.\n",
    "fullname = ('Masha', 'Z', 'Hopper')\n",
    "\n",
    "# Tuples are immutable, so their elements cannot be overwritten.\n",
    "fullname[2] = 'Copper'\n",
    "print(fullname)\n"
   ]
  },
  {
   "cell_type": "code",
   "execution_count": 42,
   "id": "17ed2db0-a219-4315-8914-3f9a0884bb0b",
   "metadata": {
    "tags": []
   },
   "outputs": [
    {
     "name": "stdout",
     "output_type": "stream",
     "text": [
      "('Masha', 'Z', 'Hopper', 'Jr')\n"
     ]
    }
   ],
   "source": [
    "# You can combine tuples using addition.\n",
    "fullname = fullname + ('Jr',)\n",
    "print(fullname)"
   ]
  },
  {
   "cell_type": "code",
   "execution_count": 43,
   "id": "b75e2559-cfb7-487b-b4e7-3559abf607fb",
   "metadata": {
    "tags": []
   },
   "outputs": [
    {
     "name": "stdout",
     "output_type": "stream",
     "text": [
      "('Masha', 'Z', 'Hopper')\n"
     ]
    }
   ],
   "source": [
    "# The tuple() function converts an object's data type to tuple.\n",
    "fullname = ['Masha', 'Z', 'Hopper']\n",
    "fullname = tuple(fullname)\n",
    "print(fullname)"
   ]
  },
  {
   "cell_type": "code",
   "execution_count": 45,
   "id": "470b3209-8e71-4d7c-aa94-5b9dc349f95d",
   "metadata": {
    "tags": []
   },
   "outputs": [],
   "source": [
    "# Functions that return multiple values return them in a tuple.\n",
    "def to_dollars_cents(price):\n",
    "    '''\n",
    "    Split price (float) into dollars and cents.\n",
    "    '''\n",
    "    dollars = int(price // 1)\n",
    "    cents = round(price % 1 * 100)\n",
    "\n",
    "    return dollars, cents"
   ]
  },
  {
   "cell_type": "code",
   "execution_count": 48,
   "id": "cb1efdb7-980c-4226-8033-c9e7b72d50c0",
   "metadata": {
    "tags": []
   },
   "outputs": [
    {
     "name": "stdout",
     "output_type": "stream",
     "text": [
      "(22, 0)\n"
     ]
    }
   ],
   "source": [
    "print(to_dollars_cents(22))"
   ]
  },
  {
   "cell_type": "code",
   "execution_count": 49,
   "id": "464edf40-aeb2-43c8-9dc2-5a8c348104eb",
   "metadata": {
    "tags": []
   },
   "outputs": [],
   "source": [
    "# Functions that return multiple values return them in a tuple.\n",
    "def to_dollars_cents(price):\n",
    "    '''\n",
    "    Split price (float) into dollars and cents.\n",
    "    '''\n",
    "    dollars = int(price // 1)\n",
    "    cents = round(price % 1 * 100)\n",
    "\n",
    "    return dollars, cents"
   ]
  },
  {
   "cell_type": "code",
   "execution_count": 50,
   "id": "72c50a33-06b9-47f4-8ebf-cc9ed6f0a489",
   "metadata": {
    "tags": []
   },
   "outputs": [
    {
     "data": {
      "text/plain": [
       "(6, 55)"
      ]
     },
     "execution_count": 50,
     "metadata": {},
     "output_type": "execute_result"
    }
   ],
   "source": [
    "# Functions that return multiple values return them in a tuple.\n",
    "to_dollars_cents(6.55)"
   ]
  },
  {
   "cell_type": "code",
   "execution_count": 51,
   "id": "712e2a20-c259-4660-9e2d-9138380a0868",
   "metadata": {
    "tags": []
   },
   "outputs": [
    {
     "name": "stdout",
     "output_type": "stream",
     "text": [
      "7\n",
      "56\n"
     ]
    }
   ],
   "source": [
    "# \"Unpacking\" a tuple allows a tuple's elements to be assigned to variables.\n",
    "dollars, cents = to_dollars_cents(6.55)\n",
    "print(dollars + 1)\n",
    "print(cents + 1)"
   ]
  },
  {
   "cell_type": "code",
   "execution_count": 52,
   "id": "b73341b1-ce71-4f67-845b-1a33d999cdc6",
   "metadata": {
    "tags": []
   },
   "outputs": [],
   "source": [
    "# Create a list of tuples, each representing the name, age, and position of a\n",
    "# player on a basketball team.\n",
    "team = [('Marta', 20, 'center'),\n",
    "        ('Ana', 22, 'point guard'),\n",
    "        ('Gabi', 22, 'shooting guard'),\n",
    "        ('Luz', 21, 'power forward'),\n",
    "        ('Lorena', 19, 'small forward'),\n",
    "        ]"
   ]
  },
  {
   "cell_type": "code",
   "execution_count": 54,
   "id": "49591e5e-bf58-4871-b72f-51cc71fe4d4a",
   "metadata": {
    "tags": []
   },
   "outputs": [
    {
     "name": "stdout",
     "output_type": "stream",
     "text": [
      "Marta 20\n",
      "Ana 22\n",
      "Gabi 22\n",
      "Luz 21\n",
      "Lorena 19\n"
     ]
    }
   ],
   "source": [
    "# Use a for loop to loop over the list, unpack the tuple at each iteration, and\n",
    "# print one of the values.\n",
    "for name, age, position in team:\n",
    "    print(name, age)"
   ]
  },
  {
   "cell_type": "code",
   "execution_count": 55,
   "id": "d630f365-d3a4-4635-b8d4-90f333996da9",
   "metadata": {
    "tags": []
   },
   "outputs": [
    {
     "name": "stdout",
     "output_type": "stream",
     "text": [
      "Marta\n",
      "Ana\n",
      "Gabi\n",
      "Luz\n",
      "Lorena\n"
     ]
    }
   ],
   "source": [
    "# This code produces the same result as the code in the cell above.\n",
    "for player in team:\n",
    "    print(player[0])"
   ]
  },
  {
   "cell_type": "code",
   "execution_count": 56,
   "id": "3921670a-a444-438b-bc6e-ddf5c4352264",
   "metadata": {
    "tags": []
   },
   "outputs": [],
   "source": [
    "# Create a list of tuples, each representing the name, age, and position of a\n",
    "# player on a basketball team.\n",
    "team = [\n",
    "    ('Marta', 20, 'center'),\n",
    "    ('Ana', 22, 'point guard'),\n",
    "    ('Gabi', 22, 'shooting guard'),\n",
    "    ('Luz', 21, 'power forward'),\n",
    "    ('Lorena', 19, 'small forward'),\n",
    "    ]"
   ]
  },
  {
   "cell_type": "code",
   "execution_count": 58,
   "id": "4d4822d8-4f28-4f3d-8b42-5a9692df6d70",
   "metadata": {
    "tags": []
   },
   "outputs": [],
   "source": [
    "# Create a function to extract and names and positions from the team list and\n",
    "# format them to be printed. Returns a list.\n",
    "def player_position(players):\n",
    "    result = []\n",
    "    for name, age, position in players:\n",
    "        result.append('Name: {:>19} \\nPosition: {:>15}\\n'.format(name, position))\n",
    "\n",
    "    return result"
   ]
  },
  {
   "cell_type": "code",
   "execution_count": 59,
   "id": "1f3ab863-bb5d-4fb8-9350-3b1932ad98ff",
   "metadata": {
    "tags": []
   },
   "outputs": [
    {
     "name": "stdout",
     "output_type": "stream",
     "text": [
      "Name:               Marta \n",
      "Position:          center\n",
      "\n",
      "Name:                 Ana \n",
      "Position:     point guard\n",
      "\n",
      "Name:                Gabi \n",
      "Position:  shooting guard\n",
      "\n",
      "Name:                 Luz \n",
      "Position:   power forward\n",
      "\n",
      "Name:              Lorena \n",
      "Position:   small forward\n",
      "\n"
     ]
    }
   ],
   "source": [
    "# Loop over the list of formatted names and positions produced by\n",
    "# player_position() function and print them.\n",
    "for player in player_position(team):\n",
    "    print(player)"
   ]
  },
  {
   "cell_type": "code",
   "execution_count": 60,
   "id": "bd2b04f2-5633-4702-9805-f66b4b347997",
   "metadata": {
    "tags": []
   },
   "outputs": [
    {
     "name": "stdout",
     "output_type": "stream",
     "text": [
      "[0|0] [0|1] [0|2] [0|3] [0|4] [0|5] [0|6] \n",
      "\n",
      "[1|1] [1|2] [1|3] [1|4] [1|5] [1|6] \n",
      "\n",
      "[2|2] [2|3] [2|4] [2|5] [2|6] \n",
      "\n",
      "[3|3] [3|4] [3|5] [3|6] \n",
      "\n",
      "[4|4] [4|5] [4|6] \n",
      "\n",
      "[5|5] [5|6] \n",
      "\n",
      "[6|6] \n",
      "\n"
     ]
    }
   ],
   "source": [
    "# Nested loops can produce the different combinations of pips (dots) in\n",
    "# a set of dominoes.\n",
    "for left in range(7):\n",
    "    for right in range(left, 7):\n",
    "        print(f\"[{left}|{right}]\", end=\" \")\n",
    "    print('\\n')"
   ]
  },
  {
   "cell_type": "code",
   "execution_count": 61,
   "id": "1d1f8718-bbcd-4ccc-be68-be5ad6405ca3",
   "metadata": {
    "tags": []
   },
   "outputs": [
    {
     "data": {
      "text/plain": [
       "[(0, 0),\n",
       " (0, 1),\n",
       " (0, 2),\n",
       " (0, 3),\n",
       " (0, 4),\n",
       " (0, 5),\n",
       " (0, 6),\n",
       " (1, 1),\n",
       " (1, 2),\n",
       " (1, 3),\n",
       " (1, 4),\n",
       " (1, 5),\n",
       " (1, 6),\n",
       " (2, 2),\n",
       " (2, 3),\n",
       " (2, 4),\n",
       " (2, 5),\n",
       " (2, 6),\n",
       " (3, 3),\n",
       " (3, 4),\n",
       " (3, 5),\n",
       " (3, 6),\n",
       " (4, 4),\n",
       " (4, 5),\n",
       " (4, 6),\n",
       " (5, 5),\n",
       " (5, 6),\n",
       " (6, 6)]"
      ]
     },
     "execution_count": 61,
     "metadata": {},
     "output_type": "execute_result"
    }
   ],
   "source": [
    "# Create a list of dominoes, with each domino reprented as a tuple.\n",
    "dominoes = []\n",
    "for left in range(7):\n",
    "    for right in range(left, 7):\n",
    "        dominoes.append((left, right))\n",
    "dominoes"
   ]
  },
  {
   "cell_type": "code",
   "execution_count": 62,
   "id": "141fb9e9-a05a-4aeb-a9d6-7948d9313be8",
   "metadata": {
    "tags": []
   },
   "outputs": [
    {
     "data": {
      "text/plain": [
       "4"
      ]
     },
     "execution_count": 62,
     "metadata": {},
     "output_type": "execute_result"
    }
   ],
   "source": [
    "# Select index 1 of the tuple at index 4 in the list of dominoes.\n",
    "dominoes[4][1]"
   ]
  },
  {
   "cell_type": "code",
   "execution_count": 63,
   "id": "01ea79ac-51eb-4fae-886a-d8ef1f9b8568",
   "metadata": {
    "tags": []
   },
   "outputs": [
    {
     "name": "stdout",
     "output_type": "stream",
     "text": [
      "[0, 1, 2, 3, 4, 5, 6, 2, 3, 4, 5, 6, 7, 4, 5, 6, 7, 8, 6, 7, 8, 9, 8, 9, 10, 10, 11, 12]\n"
     ]
    }
   ],
   "source": [
    "# You can use a for loop to sum the pips on each domino and append\n",
    "# the sum to a new list.\n",
    "pips_from_loop = []\n",
    "for domino in dominoes:\n",
    "    pips_from_loop.append(domino[0] + domino[1])\n",
    "print(pips_from_loop)"
   ]
  },
  {
   "cell_type": "code",
   "execution_count": 64,
   "id": "38368139-f369-4d20-b62c-8f7edde41359",
   "metadata": {
    "tags": []
   },
   "outputs": [
    {
     "data": {
      "text/plain": [
       "'zebras'"
      ]
     },
     "execution_count": 64,
     "metadata": {},
     "output_type": "execute_result"
    }
   ],
   "source": [
    "# Create a dictionary with pens as keys and the animals they contain as values.\n",
    "# Dictionaries can be instantiated using braces.\n",
    "zoo = {\n",
    "    'pen_1': 'penguins',\n",
    "    'pen_2': 'zebras',\n",
    "    'pen_3': 'lions',\n",
    "    }\n",
    "\n",
    "# Selecting the `pen_2` key returns `zebras`, the value stored at that key.\n",
    "zoo['pen_2']"
   ]
  },
  {
   "cell_type": "code",
   "execution_count": 65,
   "id": "81c1ce53-e1b4-4566-a650-880582b9b234",
   "metadata": {
    "tags": []
   },
   "outputs": [
    {
     "data": {
      "text/plain": [
       "'zebras'"
      ]
     },
     "execution_count": 65,
     "metadata": {},
     "output_type": "execute_result"
    }
   ],
   "source": [
    "# Dictionaries can also be instantiated using the dict() function.\n",
    "zoo = dict(\n",
    "    pen_1='monkeys',\n",
    "    pen_2='zebras',\n",
    "    pen_3='lions',\n",
    "    )\n",
    "\n",
    "zoo['pen_2']"
   ]
  },
  {
   "cell_type": "code",
   "execution_count": 66,
   "id": "9698a1da-1006-4951-bf72-37c5dcc23dc2",
   "metadata": {
    "tags": []
   },
   "outputs": [
    {
     "data": {
      "text/plain": [
       "'zebras'"
      ]
     },
     "execution_count": 66,
     "metadata": {},
     "output_type": "execute_result"
    }
   ],
   "source": [
    "# Another way to create a dictionary using the dict() function.\n",
    "zoo = dict(\n",
    "    [\n",
    "     ['pen_1', 'monkeys'],\n",
    "     ['pen_2', 'zebras'],\n",
    "     ['pen_3', 'lions'],\n",
    "    ]\n",
    ")\n",
    "\n",
    "zoo['pen_2']"
   ]
  },
  {
   "cell_type": "code",
   "execution_count": 67,
   "id": "ac3761bf-abf6-49e5-9169-0d58c10f9dfb",
   "metadata": {
    "tags": []
   },
   "outputs": [
    {
     "data": {
      "text/plain": [
       "{'pen_1': 'monkeys',\n",
       " 'pen_2': 'zebras',\n",
       " 'pen_3': 'lions',\n",
       " 'pen_4': 'crocodiles'}"
      ]
     },
     "execution_count": 67,
     "metadata": {},
     "output_type": "execute_result"
    }
   ],
   "source": [
    "# Assign a new key: value pair to an existing dictionary.\n",
    "zoo['pen_4'] = 'crocodiles'\n",
    "zoo"
   ]
  },
  {
   "cell_type": "code",
   "execution_count": null,
   "id": "8650c1d7-f9c6-46eb-a70e-ec442e4b49bc",
   "metadata": {},
   "outputs": [],
   "source": []
  },
  {
   "cell_type": "code",
   "execution_count": 68,
   "id": "88a67295-47da-498f-9b8b-53215ca9fa93",
   "metadata": {
    "tags": []
   },
   "outputs": [
    {
     "ename": "KeyError",
     "evalue": "2",
     "output_type": "error",
     "traceback": [
      "\u001b[1;31m---------------------------------------------------------------------------\u001b[0m",
      "\u001b[1;31mKeyError\u001b[0m                                  Traceback (most recent call last)",
      "Cell \u001b[1;32mIn[68], line 2\u001b[0m\n\u001b[0;32m      1\u001b[0m \u001b[38;5;66;03m# Dictionaries are unordered and do not support numerical indexing.\u001b[39;00m\n\u001b[1;32m----> 2\u001b[0m zoo[\u001b[38;5;241m2\u001b[39m]\n",
      "\u001b[1;31mKeyError\u001b[0m: 2"
     ]
    }
   ],
   "source": [
    "# Dictionaries are unordered and do not support numerical indexing.\n",
    "zoo[2]"
   ]
  },
  {
   "cell_type": "code",
   "execution_count": 69,
   "id": "2d2896c2-8325-44e4-8c69-1f94d24131c3",
   "metadata": {
    "tags": []
   },
   "outputs": [
    {
     "name": "stdout",
     "output_type": "stream",
     "text": [
      "True\n",
      "False\n"
     ]
    }
   ],
   "source": [
    "# Use the `in` keyword to produce a Boolean of whether a given key exists in a dictionary.\n",
    "print('pen_1' in zoo)\n",
    "print('pen_7' in zoo)"
   ]
  },
  {
   "cell_type": "code",
   "execution_count": 70,
   "id": "8e05f0cc-56d3-443f-8205-bfedda723be2",
   "metadata": {
    "tags": []
   },
   "outputs": [],
   "source": [
    "# Create a list of tuples, each representing the name, age, and position of a\n",
    "# player on a basketball team.\n",
    "team = [\n",
    "    ('Marta', 20, 'center'),\n",
    "    ('Ana', 22, 'point guard'),\n",
    "    ('Gabi', 22, 'shooting guard'),\n",
    "    ('Luz', 21, 'power forward'),\n",
    "    ('Lorena', 19, 'small forward'),\n",
    "    ]"
   ]
  },
  {
   "cell_type": "code",
   "execution_count": 71,
   "id": "81430d31-84ba-49c4-ab49-852a9591a8f9",
   "metadata": {
    "tags": []
   },
   "outputs": [],
   "source": [
    "# Add new players to the list.\n",
    "team = [\n",
    "    ('Marta', 20, 'center'),\n",
    "    ('Ana', 22, 'point guard'),\n",
    "    ('Gabi', 22, 'shooting guard'),\n",
    "    ('Luz', 21, 'power forward'),\n",
    "    ('Lorena', 19, 'small forward'),\n",
    "    ('Sandra', 19, 'center'),\n",
    "    ('Mari', 18, 'point guard'),\n",
    "    ('Esme', 18, 'shooting guard'),\n",
    "    ('Lin', 18, 'power forward'),\n",
    "    ('Sol', 19, 'small forward'),\n",
    "    ]"
   ]
  },
  {
   "cell_type": "code",
   "execution_count": 72,
   "id": "92540e3d-7294-4d00-9bad-e28d484abc2f",
   "metadata": {
    "tags": []
   },
   "outputs": [
    {
     "data": {
      "text/plain": [
       "{'center': [('Marta', 20), ('Sandra', 19)],\n",
       " 'point guard': [('Ana', 22), ('Mari', 18)],\n",
       " 'shooting guard': [('Gabi', 22), ('Esme', 18)],\n",
       " 'power forward': [('Luz', 21), ('Lin', 18)],\n",
       " 'small forward': [('Lorena', 19), ('Sol', 19)]}"
      ]
     },
     "execution_count": 72,
     "metadata": {},
     "output_type": "execute_result"
    }
   ],
   "source": [
    "# Instantiate an empty dictionary.\n",
    "new_team = {}\n",
    "\n",
    "# Loop over the tuples in the list of players and unpack their values.\n",
    "for name, age, position in team:\n",
    "    if position in new_team:                    # If position already a key in new_team,\n",
    "        new_team[position].append((name, age))  # append (name, age) tup to list at that value.\n",
    "    else:\n",
    "        new_team[position] = [(name, age)]      # If position not a key in new_team,\n",
    "                                                # create a new key whose value is a list\n",
    "                                                # containing (name, age) tup.\n",
    "new_team"
   ]
  },
  {
   "cell_type": "code",
   "execution_count": 73,
   "id": "75d6ad2c-f9e7-4963-8483-3c1afe822f83",
   "metadata": {
    "tags": []
   },
   "outputs": [
    {
     "data": {
      "text/plain": [
       "[('Ana', 22), ('Mari', 18)]"
      ]
     },
     "execution_count": 73,
     "metadata": {},
     "output_type": "execute_result"
    }
   ],
   "source": [
    "# Examine the value at the 'point guard' key.\n",
    "new_team['point guard']"
   ]
  },
  {
   "cell_type": "code",
   "execution_count": 74,
   "id": "18964a48-5c5d-4201-a7bc-60de45d11bb9",
   "metadata": {
    "tags": []
   },
   "outputs": [
    {
     "name": "stdout",
     "output_type": "stream",
     "text": [
      "center\n",
      "point guard\n",
      "shooting guard\n",
      "power forward\n",
      "small forward\n"
     ]
    }
   ],
   "source": [
    "# You can access the a dictionary's keys by looping over them.\n",
    "for x in new_team:\n",
    "    print(x)"
   ]
  },
  {
   "cell_type": "code",
   "execution_count": 75,
   "id": "fb8a258a-7ea7-429f-b08e-434d3dbbfa4a",
   "metadata": {
    "tags": []
   },
   "outputs": [
    {
     "data": {
      "text/plain": [
       "dict_keys(['center', 'point guard', 'shooting guard', 'power forward', 'small forward'])"
      ]
     },
     "execution_count": 75,
     "metadata": {},
     "output_type": "execute_result"
    }
   ],
   "source": [
    "# The keys() method returns the keys of a dictionary.\n",
    "new_team.keys()"
   ]
  },
  {
   "cell_type": "code",
   "execution_count": 76,
   "id": "96d6fe8f-10b0-4aa6-a7a4-b95218e51684",
   "metadata": {
    "tags": []
   },
   "outputs": [
    {
     "data": {
      "text/plain": [
       "dict_values([[('Marta', 20), ('Sandra', 19)], [('Ana', 22), ('Mari', 18)], [('Gabi', 22), ('Esme', 18)], [('Luz', 21), ('Lin', 18)], [('Lorena', 19), ('Sol', 19)]])"
      ]
     },
     "execution_count": 76,
     "metadata": {},
     "output_type": "execute_result"
    }
   ],
   "source": [
    "# The values() method returns all the values in a dictionary.\n",
    "new_team.values()"
   ]
  },
  {
   "cell_type": "code",
   "execution_count": 79,
   "id": "7f164b63-052f-46f2-adc9-807c4577c032",
   "metadata": {
    "tags": []
   },
   "outputs": [
    {
     "name": "stdout",
     "output_type": "stream",
     "text": [
      "center [('Marta', 20), ('Sandra', 19)]\n",
      "point guard [('Ana', 22), ('Mari', 18)]\n",
      "shooting guard [('Gabi', 22), ('Esme', 18)]\n",
      "power forward [('Luz', 21), ('Lin', 18)]\n",
      "small forward [('Lorena', 19), ('Sol', 19)]\n"
     ]
    }
   ],
   "source": [
    "# The items() method returns both the keys and the values.\n",
    "for a, b in new_team.items():\n",
    "    print(a, b)"
   ]
  },
  {
   "cell_type": "code",
   "execution_count": 80,
   "id": "094cacd9-ede1-4bfe-9f6d-ef063b9ea2bc",
   "metadata": {
    "tags": []
   },
   "outputs": [
    {
     "name": "stdout",
     "output_type": "stream",
     "text": [
      "{'baz', 'foo', 'bar'}\n"
     ]
    }
   ],
   "source": [
    "# The set() function converts a list to a set.\n",
    "x = set(['foo', 'bar', 'baz', 'foo'])\n",
    "print(x)"
   ]
  },
  {
   "cell_type": "code",
   "execution_count": 81,
   "id": "a799f059-1558-4773-9cc5-8ab46b74d5c4",
   "metadata": {
    "tags": []
   },
   "outputs": [
    {
     "name": "stdout",
     "output_type": "stream",
     "text": [
      "{'baz', 'foo', 'bar'}\n"
     ]
    }
   ],
   "source": [
    "# The set() function converts a tuple to a set.\n",
    "x = set(('foo','bar','baz', 'foo'))\n",
    "print(x)"
   ]
  },
  {
   "cell_type": "code",
   "execution_count": 82,
   "id": "9fde9c44-a1a7-4cbc-ad58-231f39598bd2",
   "metadata": {
    "tags": []
   },
   "outputs": [
    {
     "name": "stdout",
     "output_type": "stream",
     "text": [
      "{'o', 'f'}\n"
     ]
    }
   ],
   "source": [
    "# The set() function converts a string to a set.\n",
    "x = set('foo')\n",
    "print(x)"
   ]
  },
  {
   "cell_type": "code",
   "execution_count": 83,
   "id": "627ced42-ecd0-4e11-8693-a646e8749e12",
   "metadata": {
    "tags": []
   },
   "outputs": [
    {
     "name": "stdout",
     "output_type": "stream",
     "text": [
      "<class 'set'>\n",
      "<class 'dict'>\n"
     ]
    }
   ],
   "source": [
    "# You can use braces to instantiate a set\n",
    "x = {'foo'}\n",
    "print(type(x))\n",
    "\n",
    "# But empty braces are reserved for dictionaries.\n",
    "y = {}\n",
    "print(type(y))"
   ]
  },
  {
   "cell_type": "code",
   "execution_count": 84,
   "id": "1efa08a1-8def-4340-bbf8-93a19d3e0aed",
   "metadata": {
    "tags": []
   },
   "outputs": [
    {
     "name": "stdout",
     "output_type": "stream",
     "text": [
      "{'foo'}\n"
     ]
    }
   ],
   "source": [
    "# Instantiating a set with braces treats the contents as literals.\n",
    "x = {'foo'}\n",
    "print(x)"
   ]
  },
  {
   "cell_type": "code",
   "execution_count": 85,
   "id": "eea1d378-45b9-4588-add8-ae762c2eac8a",
   "metadata": {
    "tags": []
   },
   "outputs": [
    {
     "name": "stdout",
     "output_type": "stream",
     "text": [
      "{4, 5, 6}\n",
      "{4, 5, 6}\n"
     ]
    }
   ],
   "source": [
    "# The intersection() method (&) returns common elements between two sets.\n",
    "set1 = {1, 2, 3, 4, 5, 6}\n",
    "set2 = {4, 5, 6, 7, 8, 9}\n",
    "print(set1.intersection(set2))\n",
    "print(set1 & set2)"
   ]
  },
  {
   "cell_type": "code",
   "execution_count": 86,
   "id": "a2eb3c85-e622-4792-b6e8-f7b1471c93f5",
   "metadata": {
    "tags": []
   },
   "outputs": [
    {
     "name": "stdout",
     "output_type": "stream",
     "text": [
      "<zip object at 0x00000296232C5D80>\n",
      "[('Paris', 'France'), ('Lagos', 'Nigeria'), ('Mumbai', 'India')]\n"
     ]
    }
   ],
   "source": [
    "cities = ['Paris', 'Lagos', 'Mumbai']\n",
    "countries = ['France', 'Nigeria', 'India']\n",
    "places = zip(cities, countries)\n",
    "\n",
    "\n",
    "print(places)\n",
    "print(list(places))"
   ]
  },
  {
   "cell_type": "code",
   "execution_count": 87,
   "id": "9234e0a6-c46b-4427-a660-33089e09b0eb",
   "metadata": {
    "tags": []
   },
   "outputs": [
    {
     "name": "stdout",
     "output_type": "stream",
     "text": [
      "('Nikola', 'Charles', 'Marie')\n",
      "('Tesla', 'Darwin', 'Curie')\n"
     ]
    }
   ],
   "source": [
    "scientists = [('Nikola', 'Tesla'), ('Charles', 'Darwin'), ('Marie', 'Curie')]\n",
    "given_names, surnames = zip(*scientists)\n",
    "print(given_names)\n",
    "print(surnames)"
   ]
  },
  {
   "cell_type": "code",
   "execution_count": 88,
   "id": "15e19937-83f2-45be-8cd0-21bffad92709",
   "metadata": {
    "tags": []
   },
   "outputs": [
    {
     "name": "stdout",
     "output_type": "stream",
     "text": [
      "0 a\n",
      "1 b\n",
      "2 c\n"
     ]
    }
   ],
   "source": [
    "letters = ['a', 'b', 'c']\n",
    "for index, letter in enumerate(letters):\n",
    "   print(index, letter)"
   ]
  },
  {
   "cell_type": "code",
   "execution_count": 89,
   "id": "afcdcf73-989b-450b-aca7-305bc33cf92a",
   "metadata": {
    "tags": []
   },
   "outputs": [
    {
     "name": "stdout",
     "output_type": "stream",
     "text": [
      "2 a\n",
      "3 b\n",
      "4 c\n"
     ]
    }
   ],
   "source": [
    "letters = ['a', 'b', 'c']\n",
    "for index, letter in enumerate(letters, 2):\n",
    "   print(index, letter)"
   ]
  },
  {
   "cell_type": "code",
   "execution_count": 90,
   "id": "6c8ce7e9-b43c-48ee-aa34-ec23bce8f661",
   "metadata": {
    "tags": []
   },
   "outputs": [
    {
     "name": "stdout",
     "output_type": "stream",
     "text": [
      "[11, 12, 13, 14, 15]\n"
     ]
    }
   ],
   "source": [
    "numbers = [1, 2, 3, 4, 5]\n",
    "new_list = [x + 10 for x in numbers]\n",
    "print(new_list)"
   ]
  },
  {
   "cell_type": "code",
   "execution_count": 92,
   "id": "58ac23e7-534d-4c23-b8f1-84b1317b1f4d",
   "metadata": {
    "tags": []
   },
   "outputs": [
    {
     "name": "stdout",
     "output_type": "stream",
     "text": [
      "[('E', 'n'), ('S', 'a')]\n"
     ]
    }
   ],
   "source": [
    "words = ['Emotan', 'Amina', 'Ibeno', 'Sankwala']\n",
    "new_list = [(word[0], word[-1]) for word in words if len(word) > 5]\n",
    "print(new_list)"
   ]
  },
  {
   "cell_type": "code",
   "execution_count": null,
   "id": "ebdfbb7a-c8a1-4eb5-bf99-fd7d84274e82",
   "metadata": {},
   "outputs": [],
   "source": []
  },
  {
   "cell_type": "code",
   "execution_count": 93,
   "id": "ed4fc773-aafa-4ca7-a20b-d4a203f160de",
   "metadata": {
    "tags": []
   },
   "outputs": [
    {
     "name": "stdout",
     "output_type": "stream",
     "text": [
      "[0, 2, 4, 6, 8, 10]\n"
     ]
    }
   ],
   "source": [
    "list = [i for i in range(11) if i % 2 == 0]\n",
    "print(list)"
   ]
  },
  {
   "cell_type": "code",
   "execution_count": 94,
   "id": "46cf3662-6cd4-4c9f-89d1-fff43d9fbafb",
   "metadata": {
    "tags": []
   },
   "outputs": [
    {
     "name": "stdout",
     "output_type": "stream",
     "text": [
      "[[0, 1, 2], [0, 1, 2], [0, 1, 2]]\n"
     ]
    }
   ],
   "source": [
    "matrix = [[j for j in range(3)] for i in range(3)]\n",
    "   \n",
    "print(matrix)"
   ]
  },
  {
   "cell_type": "markdown",
   "id": "30a61d43-e3d2-46d2-bc6c-4ff244b5574b",
   "metadata": {},
   "source": [
    "This is particuarily powerful when iterating below"
   ]
  },
  {
   "cell_type": "code",
   "execution_count": 99,
   "id": "2205b165-c095-476c-a7dc-cb5870aea629",
   "metadata": {
    "tags": []
   },
   "outputs": [
    {
     "name": "stdout",
     "output_type": "stream",
     "text": [
      "Time taken for_loop: 103.24\n",
      "Time taken for list_comprehension: 87.95\n"
     ]
    }
   ],
   "source": [
    "# Import required module\n",
    "import time\n",
    "\n",
    "\n",
    "# define function to implement for loop\n",
    "def for_loop(n):\n",
    "\tresult = []\n",
    "\tfor i in range(n):\n",
    "\t\tresult.append(i**2)\n",
    "\treturn result\n",
    "\n",
    "\n",
    "# define function to implement list comprehension\n",
    "def list_comprehension(n):\n",
    "\treturn [i**2 for i in range(n)]\n",
    "\n",
    "\n",
    "# Driver Code\n",
    "\n",
    "# Calculate time taken by for_loop()\n",
    "begin = time.time()\n",
    "for_loop(10**9)\n",
    "end = time.time()\n",
    "\n",
    "# Display time taken by for_loop()\n",
    "print('Time taken for_loop:', round(end-begin, 2))\n",
    "\n",
    "# Calculate time takens by list_comprehension()\n",
    "begin = time.time()\n",
    "list_comprehension(10**9)\n",
    "end = time.time()\n",
    "\n",
    "# Display time taken by for_loop()\n",
    "print('Time taken for list_comprehension:', round(end-begin, 2))\n"
   ]
  },
  {
   "cell_type": "code",
   "execution_count": null,
   "id": "de72aee2-7667-4b4c-8dcd-3d9a4c4352d3",
   "metadata": {},
   "outputs": [],
   "source": []
  }
 ],
 "metadata": {
  "kernelspec": {
   "display_name": "Python 3 (ipykernel)",
   "language": "python",
   "name": "python3"
  },
  "language_info": {
   "codemirror_mode": {
    "name": "ipython",
    "version": 3
   },
   "file_extension": ".py",
   "mimetype": "text/x-python",
   "name": "python",
   "nbconvert_exporter": "python",
   "pygments_lexer": "ipython3",
   "version": "3.11.4"
  }
 },
 "nbformat": 4,
 "nbformat_minor": 5
}
