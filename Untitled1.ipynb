{
 "cells": [
  {
   "cell_type": "markdown",
   "id": "a8441636-c80f-4464-86d0-a1093a5c7b0d",
   "metadata": {},
   "source": [
    "Scale Model of the Solar System"
   ]
  },
  {
   "cell_type": "markdown",
   "id": "7b9c4a10-af97-4878-b8e4-c99e969c662f",
   "metadata": {},
   "source": [
    "in this project my aim is this: I wish to produce interactive parameters to explore the scale of the universe."
   ]
  },
  {
   "cell_type": "code",
   "execution_count": 1,
   "id": "28c7acb2-5999-4434-942e-063b56f7ef6a",
   "metadata": {
    "tags": []
   },
   "outputs": [],
   "source": [
    "from skyfield.api import load\n"
   ]
  },
  {
   "cell_type": "code",
   "execution_count": null,
   "id": "88e463db-4f26-4037-848d-9ef776e1ef86",
   "metadata": {},
   "outputs": [],
   "source": []
  }
 ],
 "metadata": {
  "kernelspec": {
   "display_name": "Python 3 (ipykernel)",
   "language": "python",
   "name": "python3"
  },
  "language_info": {
   "codemirror_mode": {
    "name": "ipython",
    "version": 3
   },
   "file_extension": ".py",
   "mimetype": "text/x-python",
   "name": "python",
   "nbconvert_exporter": "python",
   "pygments_lexer": "ipython3",
   "version": "3.11.4"
  }
 },
 "nbformat": 4,
 "nbformat_minor": 5
}
