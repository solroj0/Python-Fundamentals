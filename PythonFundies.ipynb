{
 "cells": [
  {
   "cell_type": "markdown",
   "id": "82e5032c-a712-444c-8d69-ecc9ec02ab47",
   "metadata": {},
   "source": [
    "# In this project I wish to create an app through Flask \n",
    "This app will take user input to play a game of Super Tic Tac Toe.\n",
    "This game is played with an inscribed grid within each index of a larger grid.\n",
    "\n",
    "\n"
   ]
  },
  {
   "cell_type": "code",
   "execution_count": 1,
   "id": "74d02704-9cc4-462f-84b3-417cd984f35d",
   "metadata": {},
   "outputs": [
    {
     "name": "stdout",
     "output_type": "stream",
     "text": [
      "[[0, 0, 0], [0, 0, 0], [0, 0, 0]]\n",
      "[[0, 0, 0], [0, 0, 0], [0, 0, 0]]\n",
      "[[0, 0, 0], [0, 0, 0], [0, 0, 0]]\n",
      "\n",
      "[[0, 0, 0], [0, 0, 0], [0, 0, 0]]\n",
      "[[0, 0, 0], [0, 0, 0], [0, 0, 0]]\n",
      "[[0, 0, 0], [0, 0, 0], [0, 0, 0]]\n",
      "\n",
      "[[0, 0, 0], [0, 0, 0], [0, 0, 0]]\n",
      "[[0, 0, 0], [0, 0, 0], [0, 0, 0]]\n",
      "[[0, 0, 0], [0, 0, 0], [0, 0, 0]]\n",
      "\n"
     ]
    }
   ],
   "source": [
    "# Function to create a 3x3 matrix with 3x3 matrices inside every cell\n",
    "def create_nested_matrix():\n",
    "    # Initialize the outer matrix as an empty list\n",
    "    outer_matrix = []\n",
    "\n",
    "    # Loop through rows of the outer matrix\n",
    "    for i in range(3):\n",
    "        # Initialize the inner matrix as an empty list for each row\n",
    "        inner_matrix_row = []\n",
    "\n",
    "        # Loop through columns of the outer matrix\n",
    "        for j in range(3):\n",
    "            # Create a 3x3 inner matrix filled with zeros (you can modify this as needed)\n",
    "            inner_matrix = [[0, 0, 0], [0, 0, 0], [0, 0, 0]]\n",
    "\n",
    "            # Append the inner matrix to the current row of the outer matrix\n",
    "            inner_matrix_row.append(inner_matrix)\n",
    "\n",
    "        # Append the row with inner matrices to the outer matrix\n",
    "        outer_matrix.append(inner_matrix_row)\n",
    "\n",
    "    return outer_matrix\n",
    "\n",
    "# Example usage\n",
    "result_matrix = create_nested_matrix()\n",
    "\n",
    "# Print the result\n",
    "for row in result_matrix:\n",
    "    for cell in row:\n",
    "        print(cell)\n",
    "    print()\n"
   ]
  }
 ],
 "metadata": {
  "kernelspec": {
   "display_name": "Python 3 (ipykernel)",
   "language": "python",
   "name": "python3"
  },
  "language_info": {
   "codemirror_mode": {
    "name": "ipython",
    "version": 3
   },
   "file_extension": ".py",
   "mimetype": "text/x-python",
   "name": "python",
   "nbconvert_exporter": "python",
   "pygments_lexer": "ipython3",
   "version": "3.11.4"
  }
 },
 "nbformat": 4,
 "nbformat_minor": 5
}
